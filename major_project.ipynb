{
 "cells": [
  {
   "cell_type": "code",
   "id": "initial_id",
   "metadata": {
    "ExecuteTime": {
     "end_time": "2025-07-29T05:27:20.047545Z",
     "start_time": "2025-07-29T05:27:07.715621Z"
    }
   },
   "source": [
    "import pandas as pd\n",
    "import numpy as np\n",
    "import matplotlib.pyplot as plt\n",
    "import seaborn as sns\n",
    "\n",
    "from sklearn.model_selection import train_test_split\n",
    "from sklearn.preprocessing import StandardScaler\n",
    "from sklearn.metrics import classification_report, confusion_matrix\n",
    "\n",
    "from imblearn.over_sampling import SMOTE\n",
    "from lightgbm import LGBMClassifier\n",
    "from sklearn.neural_network import MLPClassifier"
   ],
   "outputs": [],
   "execution_count": 1
  },
  {
   "cell_type": "code",
   "id": "bdcd309a6d1ebd74",
   "metadata": {
    "ExecuteTime": {
     "end_time": "2025-07-29T05:27:28.360531Z",
     "start_time": "2025-07-29T05:27:23.324712Z"
    }
   },
   "source": [
    "df = pd.read_csv(\"creditcard.csv\")\n",
    "print(df.head())"
   ],
   "outputs": [
    {
     "name": "stdout",
     "output_type": "stream",
     "text": [
      "   Time        V1        V2        V3        V4        V5        V6        V7  \\\n",
      "0   0.0 -1.359807 -0.072781  2.536347  1.378155 -0.338321  0.462388  0.239599   \n",
      "1   0.0  1.191857  0.266151  0.166480  0.448154  0.060018 -0.082361 -0.078803   \n",
      "2   1.0 -1.358354 -1.340163  1.773209  0.379780 -0.503198  1.800499  0.791461   \n",
      "3   1.0 -0.966272 -0.185226  1.792993 -0.863291 -0.010309  1.247203  0.237609   \n",
      "4   2.0 -1.158233  0.877737  1.548718  0.403034 -0.407193  0.095921  0.592941   \n",
      "\n",
      "         V8        V9  ...       V21       V22       V23       V24       V25  \\\n",
      "0  0.098698  0.363787  ... -0.018307  0.277838 -0.110474  0.066928  0.128539   \n",
      "1  0.085102 -0.255425  ... -0.225775 -0.638672  0.101288 -0.339846  0.167170   \n",
      "2  0.247676 -1.514654  ...  0.247998  0.771679  0.909412 -0.689281 -0.327642   \n",
      "3  0.377436 -1.387024  ... -0.108300  0.005274 -0.190321 -1.175575  0.647376   \n",
      "4 -0.270533  0.817739  ... -0.009431  0.798278 -0.137458  0.141267 -0.206010   \n",
      "\n",
      "        V26       V27       V28  Amount  Class  \n",
      "0 -0.189115  0.133558 -0.021053  149.62      0  \n",
      "1  0.125895 -0.008983  0.014724    2.69      0  \n",
      "2 -0.139097 -0.055353 -0.059752  378.66      0  \n",
      "3 -0.221929  0.062723  0.061458  123.50      0  \n",
      "4  0.502292  0.219422  0.215153   69.99      0  \n",
      "\n",
      "[5 rows x 31 columns]\n"
     ]
    }
   ],
   "execution_count": 2
  },
  {
   "cell_type": "code",
   "id": "931b762e717ff15c",
   "metadata": {
    "ExecuteTime": {
     "end_time": "2025-07-29T05:27:40.666749Z",
     "start_time": "2025-07-29T05:27:40.618212Z"
    }
   },
   "source": [
    "# Scale 'Amount' and 'Time'\n",
    "scaler = StandardScaler()\n",
    "df['scaled_amount'] = scaler.fit_transform(df['Amount'].values.reshape(-1, 1))\n",
    "df['scaled_time'] = scaler.fit_transform(df['Time'].values.reshape(-1, 1))"
   ],
   "outputs": [],
   "execution_count": 3
  },
  {
   "cell_type": "code",
   "id": "1d756aa1a5011a0",
   "metadata": {
    "ExecuteTime": {
     "end_time": "2025-07-29T05:27:51.843028Z",
     "start_time": "2025-07-29T05:27:51.756500Z"
    }
   },
   "source": [
    "# Feature Extraction starts here:\n",
    "\n",
    "# 1. Extract transaction hour from 'Time' (Time in seconds from first transaction)\n",
    "df['Transaction_hour'] = ((df['Time'] // 3600) % 24).astype(int)  # hour of day 0-23"
   ],
   "outputs": [],
   "execution_count": 4
  },
  {
   "cell_type": "code",
   "id": "48154c8397e398f5",
   "metadata": {
    "ExecuteTime": {
     "end_time": "2025-07-29T05:28:01.084060Z",
     "start_time": "2025-07-29T05:28:01.041349Z"
    }
   },
   "source": [
    "# One-hot encode 'Transaction_hour' for model (optional, here just adding numeric)\n",
    "# or you could use cyclic features:\n",
    "df['Hour_sin'] = np.sin(2 * np.pi * df['Transaction_hour'] / 24)\n",
    "df['Hour_cos'] = np.cos(2 * np.pi * df['Transaction_hour'] / 24)"
   ],
   "outputs": [],
   "execution_count": 5
  },
  {
   "cell_type": "code",
   "id": "342c973aa6b0665b",
   "metadata": {
    "ExecuteTime": {
     "end_time": "2025-07-29T05:28:09.658618Z",
     "start_time": "2025-07-29T05:28:09.623294Z"
    }
   },
   "source": [
    "# 2. Interaction features between scaled_amount and V1, V2\n",
    "df['Amount_V1_interaction'] = df['scaled_amount'] * df['V1']\n",
    "df['Amount_V2_interaction'] = df['scaled_amount'] * df['V2']"
   ],
   "outputs": [],
   "execution_count": 6
  },
  {
   "cell_type": "code",
   "id": "30bc215f2618b7e3",
   "metadata": {
    "ExecuteTime": {
     "end_time": "2025-07-29T05:28:18.067519Z",
     "start_time": "2025-07-29T05:28:18.042552Z"
    }
   },
   "source": [
    "# 3. Absolute value of some PCA features (capture magnitude)\n",
    "df['Abs_V3'] = df['V3'].abs()\n",
    "df['Abs_V4'] = df['V4'].abs()"
   ],
   "outputs": [],
   "execution_count": 7
  },
  {
   "cell_type": "code",
   "id": "87e6ccc02186f1c0",
   "metadata": {
    "ExecuteTime": {
     "end_time": "2025-07-29T05:28:24.872749Z",
     "start_time": "2025-07-29T05:28:24.844548Z"
    }
   },
   "source": [
    "# 4. Log transform of amount (add small constant to avoid log(0))\n",
    "df['Log_Amount'] = np.log1p(df['Amount'])"
   ],
   "outputs": [],
   "execution_count": 8
  },
  {
   "cell_type": "code",
   "id": "e8133214384eae49",
   "metadata": {
    "ExecuteTime": {
     "end_time": "2025-07-29T05:28:33.596756Z",
     "start_time": "2025-07-29T05:28:33.414824Z"
    }
   },
   "source": [
    "# Drop original 'Amount' and 'Time' columns\n",
    "df.drop(['Amount', 'Time', 'Transaction_hour'], axis=1, inplace=True)"
   ],
   "outputs": [],
   "execution_count": 9
  },
  {
   "cell_type": "code",
   "id": "d04189572c89b2fd",
   "metadata": {
    "ExecuteTime": {
     "end_time": "2025-07-29T05:28:41.338177Z",
     "start_time": "2025-07-29T05:28:41.175780Z"
    }
   },
   "source": [
    "# Rearranging columns: put scaled_time, scaled_amount, new features, original PCA, Class\n",
    "new_features = ['Hour_sin', 'Hour_cos', 'Amount_V1_interaction', 'Amount_V2_interaction', 'Abs_V3', 'Abs_V4', 'Log_Amount']\n",
    "cols = ['scaled_time', 'scaled_amount'] + new_features + [col for col in df.columns if col not in ['scaled_time', 'scaled_amount', 'Class'] + new_features] + ['Class']\n",
    "scaled_data = df[cols]"
   ],
   "outputs": [],
   "execution_count": 10
  },
  {
   "cell_type": "code",
   "id": "96550c8c3503e52f",
   "metadata": {
    "ExecuteTime": {
     "end_time": "2025-07-29T05:28:53.169645Z",
     "start_time": "2025-07-29T05:28:52.961133Z"
    }
   },
   "source": [
    "X = scaled_data.drop('Class', axis=1)\n",
    "y = scaled_data['Class']"
   ],
   "outputs": [],
   "execution_count": 11
  },
  {
   "cell_type": "code",
   "id": "e922c77eaa1308e3",
   "metadata": {
    "ExecuteTime": {
     "end_time": "2025-07-29T05:29:00.999972Z",
     "start_time": "2025-07-29T05:29:00.139194Z"
    }
   },
   "source": [
    "# Train-test split\n",
    "X_train, X_test, y_train, y_test = train_test_split(X, y, test_size=0.2, random_state=42, stratify=y)\n"
   ],
   "outputs": [],
   "execution_count": 12
  },
  {
   "cell_type": "code",
   "id": "121fd7a7ce4e152f",
   "metadata": {
    "ExecuteTime": {
     "end_time": "2025-07-29T05:29:14.762790Z",
     "start_time": "2025-07-29T05:29:07.690080Z"
    }
   },
   "source": [
    "# Apply SMOTE\n",
    "smote = SMOTE(random_state=42)\n",
    "X_train_smote, y_train_smote = smote.fit_resample(X_train, y_train)\n",
    "\n",
    "print(\"Before SMOTE:\", y_train.value_counts())\n",
    "print(\"After SMOTE:\", y_train_smote.value_counts())"
   ],
   "outputs": [
    {
     "name": "stdout",
     "output_type": "stream",
     "text": [
      "Before SMOTE: Class\n",
      "0    227451\n",
      "1       394\n",
      "Name: count, dtype: int64\n",
      "After SMOTE: Class\n",
      "0    227451\n",
      "1    227451\n",
      "Name: count, dtype: int64\n"
     ]
    }
   ],
   "execution_count": 13
  },
  {
   "metadata": {
    "ExecuteTime": {
     "end_time": "2025-07-29T05:29:40.619683Z",
     "start_time": "2025-07-29T05:29:23.018311Z"
    }
   },
   "cell_type": "code",
   "source": [
    "# LightGBM\n",
    "lgb_model = LGBMClassifier()\n",
    "lgb_model.fit(X_train_smote, y_train_smote)\n",
    "y_pred_lgb = lgb_model.predict(X_test)"
   ],
   "id": "aa3a63a836f22d6f",
   "outputs": [
    {
     "name": "stdout",
     "output_type": "stream",
     "text": [
      "[LightGBM] [Info] Number of positive: 227451, number of negative: 227451\n",
      "[LightGBM] [Info] Auto-choosing col-wise multi-threading, the overhead of testing was 0.270242 seconds.\n",
      "You can set `force_col_wise=true` to remove the overhead.\n",
      "[LightGBM] [Info] Total Bins 9435\n",
      "[LightGBM] [Info] Number of data points in the train set: 454902, number of used features: 37\n",
      "[LightGBM] [Info] [binary:BoostFromScore]: pavg=0.500000 -> initscore=0.000000\n"
     ]
    }
   ],
   "execution_count": 14
  },
  {
   "metadata": {
    "ExecuteTime": {
     "end_time": "2025-07-29T05:32:09.007073Z",
     "start_time": "2025-07-29T05:30:40.308638Z"
    }
   },
   "cell_type": "code",
   "source": [
    "# MLP\n",
    "mlp_model = MLPClassifier(hidden_layer_sizes=(64, 32), max_iter=100, random_state=42)\n",
    "mlp_model.fit(X_train_smote, y_train_smote)\n",
    "y_pred_mlp = mlp_model.predict(X_test)"
   ],
   "id": "19d97ed6edb541f8",
   "outputs": [],
   "execution_count": 15
  },
  {
   "metadata": {
    "ExecuteTime": {
     "end_time": "2025-07-29T05:32:18.379785Z",
     "start_time": "2025-07-29T05:32:17.936962Z"
    }
   },
   "cell_type": "code",
   "source": [
    "# LightGBM Evaluation\n",
    "print(\"📊 LightGBM Classification Report:\")\n",
    "print(classification_report(y_test, y_pred_lgb))\n",
    "sns.heatmap(confusion_matrix(y_test, y_pred_lgb), annot=True, fmt='d', cmap='Blues')\n",
    "plt.title(\"LightGBM Confusion Matrix\")\n",
    "plt.show()\n"
   ],
   "id": "16084ffb65538295",
   "outputs": [
    {
     "name": "stdout",
     "output_type": "stream",
     "text": [
      "📊 LightGBM Classification Report:\n",
      "              precision    recall  f1-score   support\n",
      "\n",
      "           0       1.00      1.00      1.00     56864\n",
      "           1       0.76      0.84      0.80        98\n",
      "\n",
      "    accuracy                           1.00     56962\n",
      "   macro avg       0.88      0.92      0.90     56962\n",
      "weighted avg       1.00      1.00      1.00     56962\n",
      "\n"
     ]
    },
    {
     "data": {
      "text/plain": [
       "<Figure size 640x480 with 2 Axes>"
      ],
      "image/png": "[encoded data removed]"
     },
     "metadata": {},
     "output_type": "display_data"
    }
   ],
   "execution_count": 16
  },
  {
   "metadata": {
    "ExecuteTime": {
     "end_time": "2025-07-29T05:32:21.287419Z",
     "start_time": "2025-07-29T05:32:20.966944Z"
    }
   },
   "cell_type": "code",
   "source": [
    "# MLP Evaluation\n",
    "print(\"📊 MLP Classification Report:\")\n",
    "print(classification_report(y_test, y_pred_mlp))\n",
    "sns.heatmap(confusion_matrix(y_test, y_pred_mlp), annot=True, fmt='d', cmap='Greens')\n",
    "plt.title(\"MLP Confusion Matrix\")\n",
    "plt.show()"
   ],
   "id": "af8a26bf336f8f23",
   "outputs": [
    {
     "name": "stdout",
     "output_type": "stream",
     "text": [
      "📊 MLP Classification Report:\n",
      "              precision    recall  f1-score   support\n",
      "\n",
      "           0       1.00      1.00      1.00     56864\n",
      "           1       0.84      0.83      0.83        98\n",
      "\n",
      "    accuracy                           1.00     56962\n",
      "   macro avg       0.92      0.91      0.92     56962\n",
      "weighted avg       1.00      1.00      1.00     56962\n",
      "\n"
     ]
    },
    {
     "data": {
      "text/plain": [
       "<Figure size 640x480 with 2 Axes>"
      ],
      "image/png": "[encoded data removed]"
     },
     "metadata": {},
     "output_type": "display_data"
    }
   ],
   "execution_count": 17
  },
  {
   "metadata": {},
   "cell_type": "code",
   "outputs": [],
   "execution_count": null,
   "source": "",
   "id": "5a6caea18b05e4fe"
  }
 ],
 "metadata": {
  "kernelspec": {
   "display_name": "Python 3 (ipykernel)",
   "language": "python",
   "name": "python3"
  },
  "language_info": {
   "codemirror_mode": {
    "name": "ipython",
    "version": 3
   },
   "file_extension": ".py",
   "mimetype": "text/x-python",
   "name": "python",
   "nbconvert_exporter": "python",
   "pygments_lexer": "ipython3",
   "version": "3.13.5"
  }
 },
 "nbformat": 4,
 "nbformat_minor": 5
}
